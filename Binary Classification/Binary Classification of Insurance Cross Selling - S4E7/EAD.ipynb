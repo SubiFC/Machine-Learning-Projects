{
 "cells": [
  {
   "cell_type": "code",
   "execution_count": 91,
   "metadata": {},
   "outputs": [],
   "source": [
    "import pandas as pd"
   ]
  },
  {
   "cell_type": "markdown",
   "metadata": {},
   "source": [
    "# Observaciones iniciales"
   ]
  },
  {
   "cell_type": "markdown",
   "metadata": {},
   "source": [
    "## Variables"
   ]
  },
  {
   "cell_type": "markdown",
   "metadata": {},
   "source": [
    "### Categóricas\n",
    "- Gender (binary)\n",
    "- Vehicle_Age\n",
    "- Vehicle_Damage (binary)\n",
    "### Enteros\n",
    "- Age\n",
    "- Driving_License (binary)\n",
    "- Previously_Insured (binary)\n",
    "- Vintage\n",
    "- Response (binary) -> Variable a predecir\n",
    "### Decimales\n",
    "- Region_Code\n",
    "- Annual_Premium\n",
    "- Policy_Sales_Channe"
   ]
  },
  {
   "cell_type": "markdown",
   "metadata": {},
   "source": [
    "## Análisis"
   ]
  },
  {
   "cell_type": "code",
   "execution_count": 92,
   "metadata": {},
   "outputs": [],
   "source": [
    "train = pd.read_csv(r\"Data\\train.csv\")\n",
    "test = pd.read_csv(r\"Data\\test.csv\")\n",
    "data = [train,test]"
   ]
  },
  {
   "cell_type": "code",
   "execution_count": 93,
   "metadata": {},
   "outputs": [
    {
     "name": "stdout",
     "output_type": "stream",
     "text": [
      "<class 'pandas.core.frame.DataFrame'>\n",
      "RangeIndex: 11504798 entries, 0 to 11504797\n",
      "Data columns (total 12 columns):\n",
      " #   Column                Dtype  \n",
      "---  ------                -----  \n",
      " 0   id                    int64  \n",
      " 1   Gender                object \n",
      " 2   Age                   int64  \n",
      " 3   Driving_License       int64  \n",
      " 4   Region_Code           float64\n",
      " 5   Previously_Insured    int64  \n",
      " 6   Vehicle_Age           object \n",
      " 7   Vehicle_Damage        object \n",
      " 8   Annual_Premium        float64\n",
      " 9   Policy_Sales_Channel  float64\n",
      " 10  Vintage               int64  \n",
      " 11  Response              int64  \n",
      "dtypes: float64(3), int64(6), object(3)\n",
      "memory usage: 1.0+ GB\n",
      "None\n",
      "<class 'pandas.core.frame.DataFrame'>\n",
      "RangeIndex: 7669866 entries, 0 to 7669865\n",
      "Data columns (total 11 columns):\n",
      " #   Column                Dtype  \n",
      "---  ------                -----  \n",
      " 0   id                    int64  \n",
      " 1   Gender                object \n",
      " 2   Age                   int64  \n",
      " 3   Driving_License       int64  \n",
      " 4   Region_Code           float64\n",
      " 5   Previously_Insured    int64  \n",
      " 6   Vehicle_Age           object \n",
      " 7   Vehicle_Damage        object \n",
      " 8   Annual_Premium        float64\n",
      " 9   Policy_Sales_Channel  float64\n",
      " 10  Vintage               int64  \n",
      "dtypes: float64(3), int64(5), object(3)\n",
      "memory usage: 643.7+ MB\n",
      "None\n"
     ]
    }
   ],
   "source": [
    "for dataset in data:\n",
    "    print(dataset.info())"
   ]
  },
  {
   "cell_type": "code",
   "execution_count": 94,
   "metadata": {},
   "outputs": [
    {
     "name": "stdout",
     "output_type": "stream",
     "text": [
      "\n",
      "Dataset:\n",
      "\n",
      "Enteros: ['id', 'Age', 'Driving_License', 'Previously_Insured', 'Vintage', 'Response']\n",
      "\n",
      "Decimales: ['Region_Code', 'Annual_Premium', 'Policy_Sales_Channel']\n",
      "\n",
      "Cadena: ['Gender', 'Vehicle_Age', 'Vehicle_Damage']\n",
      "\n",
      "Dataset:\n",
      "\n",
      "Enteros: ['id', 'Age', 'Driving_License', 'Previously_Insured', 'Vintage']\n",
      "\n",
      "Decimales: ['Region_Code', 'Annual_Premium', 'Policy_Sales_Channel']\n",
      "\n",
      "Cadena: ['Gender', 'Vehicle_Age', 'Vehicle_Damage']\n"
     ]
    }
   ],
   "source": [
    "for dataset in data:\n",
    "    print(\"\\nDataset:\")\n",
    "    print(\"\\nEnteros:\",dataset.select_dtypes(include='int').columns.to_list())\n",
    "    print(\"\\nDecimales:\",dataset.select_dtypes(include='float').columns.to_list())\n",
    "    print(\"\\nCadena:\",dataset.select_dtypes(include='object').columns.to_list())"
   ]
  },
  {
   "cell_type": "code",
   "execution_count": 95,
   "metadata": {},
   "outputs": [
    {
     "name": "stdout",
     "output_type": "stream",
     "text": [
      "\n",
      "dataset: id                      0\n",
      "Gender                  0\n",
      "Age                     0\n",
      "Driving_License         0\n",
      "Region_Code             0\n",
      "Previously_Insured      0\n",
      "Vehicle_Age             0\n",
      "Vehicle_Damage          0\n",
      "Annual_Premium          0\n",
      "Policy_Sales_Channel    0\n",
      "Vintage                 0\n",
      "Response                0\n",
      "dtype: int64\n",
      "\n",
      "dataset: id                      0\n",
      "Gender                  0\n",
      "Age                     0\n",
      "Driving_License         0\n",
      "Region_Code             0\n",
      "Previously_Insured      0\n",
      "Vehicle_Age             0\n",
      "Vehicle_Damage          0\n",
      "Annual_Premium          0\n",
      "Policy_Sales_Channel    0\n",
      "Vintage                 0\n",
      "dtype: int64\n"
     ]
    }
   ],
   "source": [
    "for dataset in data:\n",
    "    print(\"\\ndataset:\",dataset.isnull().sum())"
   ]
  },
  {
   "cell_type": "markdown",
   "metadata": {},
   "source": [
    "No observamos valores nulos"
   ]
  },
  {
   "cell_type": "markdown",
   "metadata": {},
   "source": [
    "Vamos a verificar si existen valores decimales en la columna 'Region_Code', 'Annual_Premium', 'Policy_Sales_Channel'.\n",
    "En caso de no encontrarlos procederemos a transformar las columnas en enteros."
   ]
  },
  {
   "cell_type": "code",
   "execution_count": 96,
   "metadata": {},
   "outputs": [
    {
     "name": "stdout",
     "output_type": "stream",
     "text": [
      "\n",
      "train:\n",
      "                 id  Gender  Age  Driving_License  Region_Code  \\\n",
      "11370234  11370234  Female   20                1         39.2   \n",
      "\n",
      "          Previously_Insured Vehicle_Age Vehicle_Damage  Annual_Premium  \\\n",
      "11370234                   1    < 1 Year             No          2630.0   \n",
      "\n",
      "          Policy_Sales_Channel  Vintage  Response  \n",
      "11370234                 159.0       74         0   \n",
      "test:\n",
      " Empty DataFrame\n",
      "Columns: [id, Gender, Age, Driving_License, Region_Code, Previously_Insured, Vehicle_Age, Vehicle_Damage, Annual_Premium, Policy_Sales_Channel, Vintage]\n",
      "Index: []\n"
     ]
    }
   ],
   "source": [
    "has_decimals = []\n",
    "for dataset in data:\n",
    "    has_decimals.append(dataset[\n",
    "        (dataset['Region_Code'] % 1 != 0) |\n",
    "        (dataset['Annual_Premium'] % 1 != 0) |\n",
    "        (dataset['Policy_Sales_Channel'] % 1 != 0)\n",
    "        ]\n",
    "    )\n",
    "print('\\ntrain:\\n',has_decimals[0],'\\ntest:\\n',has_decimals[1])"
   ]
  },
  {
   "cell_type": "markdown",
   "metadata": {},
   "source": [
    "Sólo hay un registro con decimales en el dataset de 'train', [Region_Code]. Al ser el único registro con estas características, procedemos a removerlo.\n",
    "\n",
    "*Futuros pasos:*\n",
    "1. Remover train['id'] = 11370234 \n",
    "2. Transformar las columnas ['Region_Code', 'Annual_Premium', 'Policy_Sales_Channel'] de float a int"
   ]
  },
  {
   "cell_type": "code",
   "execution_count": 97,
   "metadata": {},
   "outputs": [],
   "source": [
    "# 1.\n",
    "\n",
    "train = train[train['id'] != 11370234]"
   ]
  },
  {
   "cell_type": "code",
   "execution_count": 98,
   "metadata": {},
   "outputs": [
    {
     "name": "stderr",
     "output_type": "stream",
     "text": [
      "C:\\Users\\SEFECASE\\AppData\\Local\\Temp\\ipykernel_15192\\2108477704.py:3: SettingWithCopyWarning: \n",
      "A value is trying to be set on a copy of a slice from a DataFrame.\n",
      "Try using .loc[row_indexer,col_indexer] = value instead\n",
      "\n",
      "See the caveats in the documentation: https://pandas.pydata.org/pandas-docs/stable/user_guide/indexing.html#returning-a-view-versus-a-copy\n",
      "  train[columns_to_convert] = train[columns_to_convert].astype('int64')\n"
     ]
    }
   ],
   "source": [
    "# 2.\n",
    "columns_to_convert = ['Region_Code', 'Annual_Premium', 'Policy_Sales_Channel']\n",
    "train[columns_to_convert] = train[columns_to_convert].astype('int64')\n",
    "test[columns_to_convert] = test[columns_to_convert].astype('int64')"
   ]
  },
  {
   "cell_type": "code",
   "execution_count": 99,
   "metadata": {},
   "outputs": [],
   "source": [
    "data = [train,test]"
   ]
  },
  {
   "cell_type": "code",
   "execution_count": 106,
   "metadata": {},
   "outputs": [
    {
     "name": "stdout",
     "output_type": "stream",
     "text": [
      "['Gender', 'Driving_License', 'Previously_Insured', 'Vehicle_Damage', 'Response']\n",
      "['Gender', 'Driving_License', 'Previously_Insured', 'Vehicle_Damage']\n"
     ]
    }
   ],
   "source": [
    "for dataset in data:\n",
    "    print(dataset.columns[dataset.nunique() == 2].to_list())\n",
    "    "
   ]
  },
  {
   "cell_type": "code",
   "execution_count": null,
   "metadata": {},
   "outputs": [],
   "source": []
  }
 ],
 "metadata": {
  "kernelspec": {
   "display_name": "Python 3",
   "language": "python",
   "name": "python3"
  },
  "language_info": {
   "codemirror_mode": {
    "name": "ipython",
    "version": 3
   },
   "file_extension": ".py",
   "mimetype": "text/x-python",
   "name": "python",
   "nbconvert_exporter": "python",
   "pygments_lexer": "ipython3",
   "version": "3.11.9"
  }
 },
 "nbformat": 4,
 "nbformat_minor": 2
}
