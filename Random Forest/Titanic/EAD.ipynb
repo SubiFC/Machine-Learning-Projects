{
 "cells": [
  {
   "cell_type": "code",
   "execution_count": null,
   "metadata": {},
   "outputs": [],
   "source": [
    "# commons\n",
    "import os\n",
    "\n",
    "# data analysis and wrangling\n",
    "import pandas as pd\n",
    "import numpy as np\n",
    "import random as rnd\n",
    "\n",
    "# visualization\n",
    "import seaborn as sns\n",
    "import matplotlib.pyplot as plt\n",
    "%matplotlib inline\n",
    "\n",
    "# machine learning\n",
    "from sklearn.linear_model import LogisticRegression\n",
    "from sklearn.svm import SVC, LinearSVC\n",
    "from sklearn.ensemble import RandomForestClassifier\n",
    "from sklearn.neighbors import KNeighborsClassifier\n",
    "from sklearn.naive_bayes import GaussianNB\n",
    "from sklearn.linear_model import Perceptron\n",
    "from sklearn.linear_model import SGDClassifier\n",
    "from sklearn.tree import DecisionTreeClassifier"
   ]
  },
  {
   "cell_type": "markdown",
   "metadata": {},
   "source": [
    "Obtenemos los datos"
   ]
  },
  {
   "cell_type": "code",
   "execution_count": null,
   "metadata": {},
   "outputs": [],
   "source": [
    "dir_actual = os.getcwd()\n",
    "path_data = dir_actual + \"\\\\data\""
   ]
  },
  {
   "cell_type": "code",
   "execution_count": null,
   "metadata": {},
   "outputs": [],
   "source": [
    "test_df = pd.read_csv(path_data+'\\\\test.csv')\n",
    "train_df = pd.read_csv(path_data+'\\\\train.csv')\n",
    "\n",
    "combined = [test_df,train_df]"
   ]
  },
  {
   "cell_type": "code",
   "execution_count": null,
   "metadata": {},
   "outputs": [],
   "source": [
    "print(test_df.info(),test_df.nunique())"
   ]
  },
  {
   "cell_type": "markdown",
   "metadata": {},
   "source": [
    "# Features\n",
    "\n",
    "- Categorical: Survived, Sex, and Embarked.\n",
    "- Ordinal: Pclass.\n",
    "- Continous: Age, Fare. \n",
    "- Discrete: SibSp, Parch."
   ]
  },
  {
   "cell_type": "markdown",
   "metadata": {},
   "source": []
  },
  {
   "cell_type": "code",
   "execution_count": null,
   "metadata": {},
   "outputs": [],
   "source": [
    "print(train_df.info(),train_df.nunique())"
   ]
  },
  {
   "cell_type": "markdown",
   "metadata": {},
   "source": [
    "# Initial Questions"
   ]
  },
  {
   "cell_type": "markdown",
   "metadata": {},
   "source": [
    "- Which features are categorical?\n",
    "        - Survived, Sex, Embarked\n",
    "- Which features are numerical?\n",
    "        - Continous: Age, Fare\n",
    "        - Ordinal: Pclass\n",
    "- Which features are mixed data types?\n",
    "        - Ticket -> int + str + special characters\n",
    "- Which features may contain errors or typos?\n",
    "        - Name\n",
    "- Which features contain blank, null or empty values?\n",
    "        - Age, Cabibn, Embarked\n",
    "- What are the data types for various features?\n",
    "        - PassengerId           int64  \n",
    "        - Survived           int64  \n",
    "        - Pclass             int64  \n",
    "        - Name               object \n",
    "        - Sex                object \n",
    "        - Age                float64\n",
    "        - SibSp              int64  \n",
    "        - Parch              int64  \n",
    "        - Ticket             object \n",
    "        - Fare               float64\n",
    "        - Cabin              object \n",
    "        - Embarked           object \n",
    "- What is the distribution of numerical feature values across the samples?\n",
    "- What is the distribution of categorical features?"
   ]
  },
  {
   "cell_type": "markdown",
   "metadata": {},
   "source": []
  },
  {
   "cell_type": "code",
   "execution_count": null,
   "metadata": {},
   "outputs": [],
   "source": []
  }
 ],
 "metadata": {
  "kernelspec": {
   "display_name": ".venv",
   "language": "python",
   "name": "python3"
  },
  "language_info": {
   "codemirror_mode": {
    "name": "ipython",
    "version": 3
   },
   "file_extension": ".py",
   "mimetype": "text/x-python",
   "name": "python",
   "nbconvert_exporter": "python",
   "pygments_lexer": "ipython3",
   "version": "3.9.7"
  }
 },
 "nbformat": 4,
 "nbformat_minor": 2
}
